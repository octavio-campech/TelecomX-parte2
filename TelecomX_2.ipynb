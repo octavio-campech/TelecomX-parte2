{
  "nbformat": 4,
  "nbformat_minor": 0,
  "metadata": {
    "colab": {
      "provenance": []
    },
    "kernelspec": {
      "name": "python3",
      "display_name": "Python 3"
    },
    "language_info": {
      "name": "python"
    }
  },
  "cells": [
    {
      "cell_type": "code",
      "execution_count": null,
      "metadata": {
        "id": "DcJpXip7aDte"
      },
      "outputs": [],
      "source": [
        "# --- 1. IMPORTACIÓN Y CONFIGURACIÓN ---\n",
        "import pandas as pd\n",
        "import numpy as np\n",
        "import matplotlib.pyplot as plt\n",
        "import seaborn as sns\n",
        "from sklearn.model_selection import train_test_split\n",
        "from sklearn.ensemble import RandomForestClassifier\n",
        "from sklearn.metrics import accuracy_score, confusion_matrix, classification_report, ConfusionMatrixDisplay\n",
        "from sklearn.preprocessing import LabelEncoder\n",
        "\n",
        "print(\"📚 Librerías importadas correctamente.\")"
      ]
    },
    {
      "cell_type": "code",
      "source": [
        "# --- 2. CARGA Y PREPROCESAMIENTO DE DATOS ---\n",
        "try:\n",
        "    # Carga de datos desde el archivo JSON local\n",
        "    df_original = pd.read_json('TelecomX_Data.json')\n",
        "    print(\"✅ Datos cargados exitosamente desde 'TelecomX_Data.json'.\")\n",
        "\n",
        "    # --- Transformación y Limpieza (similar al script anterior) ---\n",
        "    df = df_original.copy()\n",
        "    for columna in ['customer', 'phone', 'internet', 'account']:\n",
        "        df_anidado = pd.json_normalize(df[columna])\n",
        "        df = pd.concat([df.drop(columna, axis=1), df_anidado], axis=1)\n",
        "\n",
        "    # Renombramos las columnas para mayor claridad\n",
        "    df.rename(columns={\n",
        "        'customerID': 'id_cliente', 'Churn': 'abandono', 'gender': 'genero',\n",
        "        'SeniorCitizen': 'adulto_mayor', 'Partner': 'tiene_pareja', 'Dependents': 'tiene_dependientes',\n",
        "        'tenure': 'meses_contrato', 'PhoneService': 'servicio_telefonico', 'MultipleLines': 'multiples_lineas',\n",
        "        'InternetService': 'servicio_internet', 'OnlineSecurity': 'seguridad_online',\n",
        "        'OnlineBackup': 'backup_online', 'DeviceProtection': 'proteccion_dispositivo',\n",
        "        'TechSupport': 'soporte_tecnico', 'StreamingTV': 'streaming_tv', 'StreamingMovies': 'streaming_peliculas',\n",
        "        'Contract': 'tipo_contrato', 'PaperlessBilling': 'facturacion_electronica',\n",
        "        'PaymentMethod': 'metodo_pago', 'Charges.Monthly': 'gasto_mensual', 'Charges.Total': 'gasto_total'\n",
        "    }, inplace=True)\n",
        "\n",
        "    # Limpieza de datos\n",
        "    df['abandono'].replace('', np.nan, inplace=True)\n",
        "    df['gasto_total'] = pd.to_numeric(df['gasto_total'], errors='coerce')\n",
        "    df.dropna(inplace=True)\n",
        "\n",
        "    # Eliminamos el ID de cliente, ya que no es útil para el modelo\n",
        "    df.drop('id_cliente', axis=1, inplace=True)\n",
        "\n",
        "    print(\"🔧 Preprocesamiento y limpieza de datos completados.\")\n",
        "\n",
        "except FileNotFoundError:\n",
        "    print(\"❌ Error: Asegúrate de que el archivo 'TelecomX_Data.json' esté en la misma carpeta.\")"
      ],
      "metadata": {
        "id": "rhvv8snyaJ3F"
      },
      "execution_count": null,
      "outputs": []
    },
    {
      "cell_type": "code",
      "source": [
        "# --- 3. CODIFICACIÓN DE VARIABLES CATEGÓRICAS ---\n",
        "# El modelo necesita que todas las entradas sean numéricas.\n",
        "# Usaremos LabelEncoder para convertir las columnas de texto a números.\n",
        "df_codificado = df.copy()\n",
        "for columna in df_codificado.select_dtypes(include=['object']).columns:\n",
        "    if columna != 'abandono': # No codificamos la variable objetivo aún\n",
        "        df_codificado[columna] = LabelEncoder().fit_transform(df_codificado[columna])\n",
        "\n",
        "# Convertimos la variable objetivo 'abandono' a 0 y 1\n",
        "df_codificado['abandono'] = df_codificado['abandono'].apply(lambda x: 1 if x == 'Yes' else 0)\n",
        "\n",
        "print(\"🔄 Variables categóricas codificadas a formato numérico.\")\n",
        "print(\"--- Primeros 5 registros de los datos listos para el modelo: ---\")\n",
        "print(df_codificado.head())\n",
        "print(\"\\n\" + \"=\"*50 + \"\\n\")"
      ],
      "metadata": {
        "id": "dcXTQ8Q7aOBx"
      },
      "execution_count": null,
      "outputs": []
    },
    {
      "cell_type": "code",
      "source": [
        "# --- 4. PREPARACIÓN PARA EL ENTRENAMIENTO DEL MODELO ---\n",
        "# Separamos las características (X) de la variable objetivo (y)\n",
        "X = df_codificado.drop('abandono', axis=1)\n",
        "y = df_codificado['abandono']\n",
        "\n",
        "# Dividimos los datos en conjuntos de entrenamiento y prueba (80% para entrenar, 20% para probar)\n",
        "X_train, X_test, y_train, y_test = train_test_split(\n",
        "    X, y,\n",
        "    test_size=0.2,\n",
        "    random_state=42, # 'random_state' asegura que la división sea siempre la misma\n",
        "    stratify=y # 'stratify' mantiene la proporción de 'abandono' en ambos conjuntos\n",
        ")\n",
        "\n",
        "print(f\"📊 Datos divididos: {len(X_train)} para entrenamiento y {len(X_test)} para prueba.\")\n",
        "print(\"\\n\" + \"=\"*50 + \"\\n\")"
      ],
      "metadata": {
        "id": "8PcY5gouaRbt"
      },
      "execution_count": null,
      "outputs": []
    },
    {
      "cell_type": "code",
      "source": [
        "# --- 5. ENTRENAMIENTO DEL MODELO DE MACHINE LEARNING ---\n",
        "# Usaremos un clasificador de Bosque Aleatorio (Random Forest), que es potente y versátil.\n",
        "print(\"🧠 Entrenando el modelo de clasificación (Random Forest)...\")\n",
        "modelo = RandomForestClassifier(\n",
        "    n_estimators=100, # Número de \"árboles\" en el bosque\n",
        "    random_state=42,\n",
        "    max_depth=10 # Profundidad máxima para evitar sobreajuste\n",
        ")\n",
        "modelo.fit(X_train, y_train)\n",
        "print(\"✅ Modelo entrenado con éxito.\")\n",
        "print(\"\\n\" + \"=\"*50 + \"\\n\")"
      ],
      "metadata": {
        "id": "lnJ01oXDaR9p"
      },
      "execution_count": null,
      "outputs": []
    },
    {
      "cell_type": "code",
      "source": [
        "# --- 6. EVALUACIÓN DEL RENDIMIENTO DEL MODELO ---\n",
        "# Realizamos predicciones sobre el conjunto de prueba\n",
        "y_pred = modelo.predict(X_test)\n",
        "\n",
        "# Calculamos la precisión del modelo\n",
        "accuracy = accuracy_score(y_test, y_pred)\n",
        "print(f\"🎯 Precisión del modelo: {accuracy:.2%}\")\n",
        "print(\"\\n--- Reporte de Clasificación Detallado: ---\")\n",
        "print(classification_report(y_test, y_pred, target_names=['No Abandona', 'Abandona']))\n",
        "\n",
        "# --- Visualización de la Matriz de Confusión ---\n",
        "print(\"📈 Visualizando la Matriz de Confusión...\")\n",
        "cm = confusion_matrix(y_test, y_pred)\n",
        "disp = ConfusionMatrixDisplay(confusion_matrix=cm, display_labels=['No Abandona', 'Abandona'])\n",
        "\n",
        "disp.plot(cmap=plt.cm.Blues)\n",
        "plt.title('Matriz de Confusión')\n",
        "plt.show()\n",
        "\n",
        "print(\"\\n🎉 Análisis completado.\")"
      ],
      "metadata": {
        "id": "HEEpU7WaaUb-"
      },
      "execution_count": null,
      "outputs": []
    }
  ]
}
